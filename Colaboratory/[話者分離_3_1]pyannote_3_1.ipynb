{
  "cells": [
    {
      "cell_type": "markdown",
      "metadata": {
        "id": "AsK7hYG7wlHr"
      },
      "source": [
        "GPUで実行してね！"
      ]
    },
    {
      "cell_type": "markdown",
      "metadata": {
        "id": "tckHJKZnYnp7"
      },
      "source": [
        "## Installation-1m"
      ]
    },
    {
      "cell_type": "code",
      "execution_count": null,
      "metadata": {
        "colab": {
          "base_uri": "https://localhost:8080/"
        },
        "collapsed": true,
        "id": "ai082p4HYnp7",
        "outputId": "6446c812-b46e-469c-c518-11b799c0d374"
      },
      "outputs": [],
      "source": [
        "!pip install -qq pyannote.audio==3.1.1\n",
        "!pip install -qq ipython==7.34.0"
      ]
    },
    {
      "cell_type": "markdown",
      "metadata": {
        "id": "dlIIhyvuq6Tf"
      },
      "source": [
        "# Upload file"
      ]
    },
    {
      "cell_type": "code",
      "execution_count": null,
      "metadata": {
        "colab": {
          "base_uri": "https://localhost:8080/",
          "height": 112
        },
        "id": "Weg2RuGfyus3",
        "outputId": "29691efd-0232-4bcc-c59b-df00d1e2261a"
      },
      "outputs": [],
      "source": [
        "# input-2\n",
        "\n",
        "import google.colab\n",
        "from pyannote.audio import Audio\n",
        "import IPython.display as ipd\n",
        "import soundfile as sf\n",
        "from pyannote.core import Segment, notebook\n",
        "\n",
        "# ファイルをアップロード\n",
        "own_file, _ = google.colab.files.upload().popitem()\n",
        "OWN_FILE = {'audio': own_file}\n",
        "notebook.reset()"
      ]
    },
    {
      "cell_type": "markdown",
      "metadata": {
        "id": "5MclWK2GYnp_"
      },
      "source": [
        "# 分離フェーズ"
      ]
    },
    {
      "cell_type": "code",
      "execution_count": null,
      "metadata": {
        "id": "SF00gh1jHNgE"
      },
      "outputs": [],
      "source": [
        "# 音声をいろいろする\n",
        "import torchaudio\n",
        "\n",
        "waveform, sample_rate = torchaudio.load(OWN_FILE['audio'])\n",
        "mono = waveform.shape[0] == 1\n",
        "\n",
        "audio = Audio(sample_rate=sample_rate, mono=mono)"
      ]
    },
    {
      "cell_type": "markdown",
      "metadata": {
        "id": "jjUIfIIeISEF"
      },
      "source": [
        "トークン！！！"
      ]
    },
    {
      "cell_type": "code",
      "execution_count": null,
      "metadata": {
        "colab": {
          "base_uri": "https://localhost:8080/",
          "height": 145,
          "referenced_widgets": [
            "4d0638c1cfa44edba071d8ff939f9441",
            "c4988a9d15d54bd6a7bcc77aef8e1e6d"
          ]
        },
        "id": "lUq1UvoJYnqB",
        "outputId": "7ad18edb-d3c4-4a65-baa0-b7974e0650e3"
      },
      "outputs": [],
      "source": [
        "# traning済みpipeline\n",
        "from pyannote.audio import Pipeline\n",
        "pipeline = Pipeline.from_pretrained(\"pyannote/speaker-diarization-3.1\",use_auth_token=\"**token**\")\n",
        "\n",
        "import torch\n",
        "if torch.cuda.is_available():\n",
        "  pipeline.to(torch.device('cuda'))\n",
        "\n",
        "#これすると100倍くらい早くなる\n",
        "waveform, sample_rate = torchaudio.load(OWN_FILE['audio'])\n",
        "\n",
        "# num_speakers=5\n",
        "from pyannote.audio.pipelines.utils.hook import ProgressHook\n",
        "with ProgressHook() as hook:\n",
        "  diarization = pipeline({\"waveform\": waveform, \"sample_rate\": sample_rate}, hook=hook, num_speakers=3)"
      ]
    },
    {
      "cell_type": "markdown",
      "metadata": {
        "id": "xkicJRq-YnqB"
      },
      "source": [
        "That's it? Yes, that's it :-)"
      ]
    },
    {
      "cell_type": "markdown",
      "metadata": {
        "id": "2PJHjeoDZJo9"
      },
      "source": [
        "# visual"
      ]
    },
    {
      "cell_type": "code",
      "execution_count": null,
      "metadata": {
        "colab": {
          "base_uri": "https://localhost:8080/",
          "height": 259
        },
        "id": "DPosdyGrYnqB",
        "outputId": "5a487cc3-ed3e-41d1-a3d9-97af6511508a"
      },
      "outputs": [
        {
          "data": {
            "image/png": "[encoded data removed]",
            "text/plain": [
              "<pyannote.core.annotation.Annotation at 0x79a3a7584c10>"
            ]
          },
          "execution_count": 8,
          "metadata": {},
          "output_type": "execute_result"
        }
      ],
      "source": [
        "diarization"
      ]
    },
    {
      "cell_type": "markdown",
      "metadata": {
        "id": "0yT4MoHLv7vJ"
      },
      "source": [
        "箇条書きというか"
      ]
    },
    {
      "cell_type": "code",
      "execution_count": null,
      "metadata": {
        "id": "6rIsy-oov20i"
      },
      "outputs": [],
      "source": [
        "# for turn, _, speaker in diarization.itertracks(yield_label=True):\n",
        "#     print(f\"start={turn.start:.1f}s stop={turn.end:.1f}s speaker_{speaker}\")"
      ]
    },
    {
      "cell_type": "markdown",
      "metadata": {
        "id": "jNIiBjTpvu0l"
      },
      "source": [
        "#  whisper installとか (3m..?)"
      ]
    },
    {
      "cell_type": "code",
      "execution_count": null,
      "metadata": {
        "id": "_XC91Q0z0t29"
      },
      "outputs": [],
      "source": [
        "# 必要に応じて\n",
        "import locale\n",
        "locale.getpreferredencoding = lambda: \"UTF-8\""
      ]
    },
    {
      "cell_type": "code",
      "execution_count": null,
      "metadata": {
        "colab": {
          "base_uri": "https://localhost:8080/"
        },
        "id": "NUL0P1Kl1EgX",
        "outputId": "f3775c80-2e08-4971-d027-e09aae002882"
      },
      "outputs": [],
      "source": [
        "!pip install git+https://github.com/openai/whisper.git"
      ]
    },
    {
      "cell_type": "code",
      "execution_count": null,
      "metadata": {
        "colab": {
          "base_uri": "https://localhost:8080/"
        },
        "id": "1ktgED24wEyb",
        "outputId": "7fb01558-34d0-45e7-9d6a-c28d19aa9711"
      },
      "outputs": [],
      "source": [
        "import whisper\n",
        "# DL1分\n",
        "# model = whisper.load_model(\"medium\")\n",
        "# DL3分\n",
        "model = whisper.load_model(\"large-v3\")"
      ]
    },
    {
      "cell_type": "markdown",
      "metadata": {
        "id": "AJjysS-oY-Wx"
      },
      "source": [
        "# whisper 実行"
      ]
    },
    {
      "cell_type": "code",
      "execution_count": null,
      "metadata": {
        "colab": {
          "base_uri": "https://localhost:8080/"
        },
        "id": "oJMYp_g8w0yl",
        "outputId": "e6501184-f34c-421a-d70e-54dafd23bdce"
      },
      "outputs": [],
      "source": [
        "from pyannote.audio import Audio\n",
        "\n",
        "audio_file = OWN_FILE['audio']\n",
        "\n",
        "# diarize_result = model.transcribe(audio_file,language=\"ja\")\n",
        "\n",
        "audio = whisper.load_audio(audio_file)\n",
        "\n",
        "for segment in diarization.itertracks(yield_label=True):\n",
        "    start_time = segment[0].start\n",
        "    end_time = segment[0].end\n",
        "    speaker = segment[2]\n",
        "\n",
        "    # スキップ処理\n",
        "    if end_time - start_time < 1.0:\n",
        "        continue\n",
        "\n",
        "    segment_audio = audio[int(start_time * 16000):int(end_time * 16000)]\n",
        "    result = model.transcribe(segment_audio, language=\"ja\")\n",
        "    text = result['text']\n",
        "\n",
        "    print(f\"{start_time:.2f} - {end_time:.2f} {speaker}: {text}\")"
      ]
    }
  ],
  "metadata": {
    "accelerator": "GPU",
    "colab": {
      "collapsed_sections": [
        "tckHJKZnYnp7",
        "5MclWK2GYnp_",
        "jNIiBjTpvu0l",
        "AJjysS-oY-Wx"
      ],
      "gpuType": "T4",
      "provenance": []
    },
    "kernelspec": {
      "display_name": "Python 3",
      "name": "python3"
    },
    "language_info": {
      "codemirror_mode": {
        "name": "ipython",
        "version": 3
      },
      "file_extension": ".py",
      "mimetype": "text/x-python",
      "name": "python",
      "nbconvert_exporter": "python",
      "pygments_lexer": "ipython3",
      "version": "3.10.13"
    },
    "widgets": {
      "application/vnd.jupyter.widget-state+json": {
        "4d0638c1cfa44edba071d8ff939f9441": {
          "model_module": "@jupyter-widgets/output",
          "model_module_version": "1.0.0",
          "model_name": "OutputModel",
          "state": {
            "_dom_classes": [],
            "_model_module": "@jupyter-widgets/output",
            "_model_module_version": "1.0.0",
            "_model_name": "OutputModel",
            "_view_count": null,
            "_view_module": "@jupyter-widgets/output",
            "_view_module_version": "1.0.0",
            "_view_name": "OutputView",
            "layout": "IPY_MODEL_c4988a9d15d54bd6a7bcc77aef8e1e6d",
            "msg_id": "",
            "outputs": [
              {
                "data": {
                  "text/html": "<pre style=\"white-space:pre;overflow-x:auto;line-height:normal;font-family:Menlo,'DejaVu Sans Mono',consolas,'Courier New',monospace\">segmentation         <span style=\"color: #729c1f; text-decoration-color: #729c1f\">━━━━━━━━━━━━━━━━━━━━━━━━━━━━━━━━━━━━━━━━</span> <span style=\"color: #800080; text-decoration-color: #800080\">100%</span> <span style=\"color: #808000; text-decoration-color: #808000\">0:00:00</span>\nspeaker_counting     <span style=\"color: #729c1f; text-decoration-color: #729c1f\">━━━━━━━━━━━━━━━━━━━━━━━━━━━━━━━━━━━━━━━━</span> <span style=\"color: #800080; text-decoration-color: #800080\">100%</span> <span style=\"color: #808000; text-decoration-color: #808000\">0:00:00</span>\nembeddings           <span style=\"color: #729c1f; text-decoration-color: #729c1f\">━━━━━━━━━━━━━━━━━━━━━━━━━━━━━━━━━━━━━━━━</span> <span style=\"color: #800080; text-decoration-color: #800080\">100%</span> <span style=\"color: #808000; text-decoration-color: #808000\">0:00:03</span>\ndiscrete_diarization <span style=\"color: #729c1f; text-decoration-color: #729c1f\">━━━━━━━━━━━━━━━━━━━━━━━━━━━━━━━━━━━━━━━━</span> <span style=\"color: #800080; text-decoration-color: #800080\">100%</span> <span style=\"color: #808000; text-decoration-color: #808000\">0:00:00</span>\n</pre>\n",
                  "text/plain": "segmentation         \u001b[38;2;114;156;31m━━━━━━━━━━━━━━━━━━━━━━━━━━━━━━━━━━━━━━━━\u001b[0m \u001b[35m100%\u001b[0m \u001b[33m0:00:00\u001b[0m\nspeaker_counting     \u001b[38;2;114;156;31m━━━━━━━━━━━━━━━━━━━━━━━━━━━━━━━━━━━━━━━━\u001b[0m \u001b[35m100%\u001b[0m \u001b[33m0:00:00\u001b[0m\nembeddings           \u001b[38;2;114;156;31m━━━━━━━━━━━━━━━━━━━━━━━━━━━━━━━━━━━━━━━━\u001b[0m \u001b[35m100%\u001b[0m \u001b[33m0:00:03\u001b[0m\ndiscrete_diarization \u001b[38;2;114;156;31m━━━━━━━━━━━━━━━━━━━━━━━━━━━━━━━━━━━━━━━━\u001b[0m \u001b[35m100%\u001b[0m \u001b[33m0:00:00\u001b[0m\n"
                },
                "metadata": {},
                "output_type": "display_data"
              }
            ]
          }
        },
        "c4988a9d15d54bd6a7bcc77aef8e1e6d": {
          "model_module": "@jupyter-widgets/base",
          "model_module_version": "1.2.0",
          "model_name": "LayoutModel",
          "state": {
            "_model_module": "@jupyter-widgets/base",
            "_model_module_version": "1.2.0",
            "_model_name": "LayoutModel",
            "_view_count": null,
            "_view_module": "@jupyter-widgets/base",
            "_view_module_version": "1.2.0",
            "_view_name": "LayoutView",
            "align_content": null,
            "align_items": null,
            "align_self": null,
            "border": null,
            "bottom": null,
            "display": null,
            "flex": null,
            "flex_flow": null,
            "grid_area": null,
            "grid_auto_columns": null,
            "grid_auto_flow": null,
            "grid_auto_rows": null,
            "grid_column": null,
            "grid_gap": null,
            "grid_row": null,
            "grid_template_areas": null,
            "grid_template_columns": null,
            "grid_template_rows": null,
            "height": null,
            "justify_content": null,
            "justify_items": null,
            "left": null,
            "margin": null,
            "max_height": null,
            "max_width": null,
            "min_height": null,
            "min_width": null,
            "object_fit": null,
            "object_position": null,
            "order": null,
            "overflow": null,
            "overflow_x": null,
            "overflow_y": null,
            "padding": null,
            "right": null,
            "top": null,
            "visibility": null,
            "width": null
          }
        }
      }
    }
  },
  "nbformat": 4,
  "nbformat_minor": 0
}
